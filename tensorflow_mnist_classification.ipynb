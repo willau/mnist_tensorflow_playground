{
 "cells": [
  {
   "cell_type": "markdown",
   "metadata": {},
   "source": [
    "# MNIST Classifier"
   ]
  },
  {
   "cell_type": "markdown",
   "metadata": {},
   "source": [
    "### Load modules"
   ]
  },
  {
   "cell_type": "code",
   "execution_count": 1,
   "metadata": {
    "collapsed": true
   },
   "outputs": [],
   "source": [
    "import tensorflow as tf\n",
    "import numpy as np\n",
    "import sys\n",
    "import os\n",
    "\n",
    "from tensorflow.examples.tutorials.mnist import input_data\n",
    "from matplotlib import pyplot as plt\n",
    "from tqdm import tqdm_notebook\n",
    "\n",
    "%matplotlib inline"
   ]
  },
  {
   "cell_type": "markdown",
   "metadata": {},
   "source": [
    "### Load data"
   ]
  },
  {
   "cell_type": "code",
   "execution_count": 2,
   "metadata": {},
   "outputs": [
    {
     "name": "stdout",
     "output_type": "stream",
     "text": [
      "Extracting MNIST_data/train-images-idx3-ubyte.gz\n",
      "Extracting MNIST_data/train-labels-idx1-ubyte.gz\n",
      "Extracting MNIST_data/t10k-images-idx3-ubyte.gz\n",
      "Extracting MNIST_data/t10k-labels-idx1-ubyte.gz\n"
     ]
    }
   ],
   "source": [
    "mnist = input_data.read_data_sets(\"MNIST_data/\", one_hot=True)\n",
    "x_train = mnist.train.images\n",
    "y_train = mnist.train.labels\n",
    "x_test = mnist.test.images\n",
    "y_test = mnist.test.labels"
   ]
  },
  {
   "cell_type": "markdown",
   "metadata": {},
   "source": [
    "### Plot number"
   ]
  },
  {
   "cell_type": "code",
   "execution_count": 3,
   "metadata": {
    "scrolled": true
   },
   "outputs": [
    {
     "data": {
      "text/plain": [
       "<matplotlib.image.AxesImage at 0xf196400>"
      ]
     },
     "execution_count": 3,
     "metadata": {},
     "output_type": "execute_result"
    },
    {
     "data": {
      "image/png": "[encoded data removed]",
      "text/plain": [
       "<matplotlib.figure.Figure at 0xf006748>"
      ]
     },
     "metadata": {},
     "output_type": "display_data"
    }
   ],
   "source": [
    "n_train = np.shape(x_train)[0]\n",
    "idx = np.random.randint(n_train)\n",
    "vector = x_train[idx]\n",
    "img = np.reshape(vector, (28, 28))\n",
    "\n",
    "plt.imshow(img)"
   ]
  },
  {
   "cell_type": "markdown",
   "metadata": {},
   "source": [
    "### TensorBoard summaries"
   ]
  },
  {
   "cell_type": "code",
   "execution_count": 4,
   "metadata": {
    "collapsed": true
   },
   "outputs": [],
   "source": [
    "# remove summaries\n",
    "def clean_folder(path=\"tensorflow_summaries/\"):\n",
    "    for file in os.listdir(path):\n",
    "        filepath = path + file\n",
    "        if filepath[-1] != \"/\":\n",
    "            filepath += \"/\"\n",
    "        if os.path.isfile(filepath):\n",
    "            os.remove(filepath)\n",
    "        \n",
    "def variable_summaries(var):\n",
    "    with tf.name_scope('summaries'):\n",
    "        mean = tf.reduce_mean(var)\n",
    "        tf.summary.scalar('mean', mean)\n",
    "        with tf.name_scope('stddev'):\n",
    "            stddev = tf.sqrt(tf.reduce_mean(tf.square(var - mean)))\n",
    "        tf.summary.scalar('stddev', stddev)\n",
    "        tf.summary.scalar('max', tf.reduce_max(var))\n",
    "        tf.summary.scalar('min', tf.reduce_min(var))\n",
    "        tf.summary.histogram('histogram', var)"
   ]
  },
  {
   "cell_type": "markdown",
   "metadata": {},
   "source": [
    "### MLP architecture"
   ]
  },
  {
   "cell_type": "code",
   "execution_count": 5,
   "metadata": {
    "collapsed": true
   },
   "outputs": [],
   "source": [
    "# reset graph (important for batch normalization and summary)\n",
    "tf.reset_default_graph()\n",
    "\n",
    "# placeholder\n",
    "x_input = tf.placeholder(tf.float32, [None, 784])\n",
    "y_input = tf.placeholder(tf.float32, [None, 10])\n",
    "\n",
    "with tf.device(\"/cpu:0\"):\n",
    "    \n",
    "        \n",
    "    with tf.name_scope(\"W\"):\n",
    "        W = tf.Variable(tf.zeros([784, 10]), name='weights')\n",
    "        variable_summaries(W)\n",
    "\n",
    "    with tf.name_scope('b'):\n",
    "        b = tf.Variable(tf.zeros([10]), name='biases')\n",
    "        variable_summaries(b)\n",
    "            \n",
    "    with tf.name_scope(\"xw_plus_b\"):\n",
    "        preds = tf.matmul(x_input, W) + b\n",
    "        tf.summary.histogram('preds', preds)\n",
    "\n",
    "    with tf.name_scope(\"cross_entropy\"):\n",
    "        cross_entropy = tf.reduce_mean(\n",
    "            tf.nn.softmax_cross_entropy_with_logits(\n",
    "                labels=y_input, \n",
    "                logits=preds\n",
    "            )\n",
    "        )\n",
    "        tf.summary.scalar('cross_entropy', cross_entropy)\n",
    "        \n",
    "    with tf.name_scope(\"optimization\"):\n",
    "        train_step = tf.train.AdamOptimizer().minimize(cross_entropy)\n",
    "        \n",
    "    with tf.name_scope(\"accuracy\"):\n",
    "        correct_prediction = tf.equal(tf.argmax(preds, axis=1), tf.argmax(y_input, axis=1)) \n",
    "        accuracy = tf.reduce_mean(tf.cast(correct_prediction, tf.float32))\n",
    "        tf.summary.scalar('accuracy', accuracy)\n",
    "        \n",
    "    merged = tf.summary.merge_all()\n",
    "    init = tf.global_variables_initializer()\n",
    "    \n",
    "# feed dict helper\n",
    "def feed_dict(train=True):\n",
    "    if train:\n",
    "        xs, ys = mnist.train.next_batch(100)\n",
    "    else:\n",
    "        xs, ys = mnist.test.images, mnist.test.labels\n",
    "    return {x_input: xs, y_input: ys}"
   ]
  },
  {
   "cell_type": "markdown",
   "metadata": {},
   "source": [
    "### Test graph architecture"
   ]
  },
  {
   "cell_type": "code",
   "execution_count": 6,
   "metadata": {},
   "outputs": [],
   "source": [
    "with tf.Session() as sess:\n",
    "    sess.run(init)\n",
    "    __ = sess.run(merged, feed_dict=feed_dict(False))"
   ]
  },
  {
   "cell_type": "markdown",
   "metadata": {},
   "source": [
    "### Clean summaries folder"
   ]
  },
  {
   "cell_type": "code",
   "execution_count": 7,
   "metadata": {},
   "outputs": [],
   "source": [
    "clean_folder(path=\"./tensorflow_summaries/train/\")\n",
    "clean_folder(path=\"./tensorflow_summaries/test/\")"
   ]
  },
  {
   "cell_type": "markdown",
   "metadata": {},
   "source": [
    "### Train model"
   ]
  },
  {
   "cell_type": "code",
   "execution_count": 8,
   "metadata": {},
   "outputs": [
    {
     "name": "stdout",
     "output_type": "stream",
     "text": [
      "Acc at epoch 0: 0.098\n",
      "Acc at epoch 100: 0.8464\n",
      "Acc at epoch 200: 0.8747\n",
      "Acc at epoch 300: 0.8891\n",
      "Acc at epoch 400: 0.8939\n",
      "Acc at epoch 500: 0.9005\n",
      "Acc at epoch 600: 0.9045\n",
      "Acc at epoch 700: 0.9062\n",
      "Acc at epoch 800: 0.9071\n",
      "Acc at epoch 900: 0.911\n",
      "Acc. on test: 0.912800\n"
     ]
    }
   ],
   "source": [
    "\n",
    "# using graph for training\n",
    "with tf.Session() as sess:\n",
    "    sess.run(init)\n",
    "    train_writer = tf.summary.FileWriter(\"./tensorflow_summaries/train\", sess.graph)\n",
    "    test_writer = tf.summary.FileWriter(\"./tensorflow_summaries/test\")\n",
    "    \n",
    "    for i in range(1000):\n",
    "        if i % 10 == 0:\n",
    "            summary, acc = sess.run([merged, accuracy], feed_dict=feed_dict(False))\n",
    "            test_writer.add_summary(summary, i)\n",
    "            if i % 100 == 0:\n",
    "                print('Acc at epoch %s: %s' % (i, acc))\n",
    "        else:\n",
    "            summary, __ = sess.run([merged, train_step], feed_dict=feed_dict(True))\n",
    "            train_writer.add_summary(summary, i)\n",
    "    # test\n",
    "    out = sess.run(accuracy, feed_dict=feed_dict(False))\n",
    "    print(\"Acc. on test: %f\" % out)"
   ]
  }
 ],
 "metadata": {
  "kernelspec": {
   "display_name": "Python 3",
   "language": "python",
   "name": "python3"
  },
  "language_info": {
   "codemirror_mode": {
    "name": "ipython",
    "version": 3
   },
   "file_extension": ".py",
   "mimetype": "text/x-python",
   "name": "python",
   "nbconvert_exporter": "python",
   "pygments_lexer": "ipython3",
   "version": "3.6.0"
  }
 },
 "nbformat": 4,
 "nbformat_minor": 2
}
