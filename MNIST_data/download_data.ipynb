{
 "cells": [
  {
   "cell_type": "code",
   "execution_count": 4,
   "metadata": {},
   "outputs": [
    {
     "name": "stdout",
     "output_type": "stream",
     "text": [
      "train-images-idx3-ubyte.gz downloaded\n",
      "train-labels-idx1-ubyte.gz downloaded\n",
      "t10k-images-idx3-ubyte.gz downloaded\n",
      "t10k-labels-idx1-ubyte.gz downloaded\n",
      "Wall time: 11.6 s\n"
     ]
    }
   ],
   "source": [
    "%%time\n",
    "\n",
    "# import module\n",
    "import os\n",
    "from urllib import request as re\n",
    "\n",
    "# url name\n",
    "url1 = \"http://yann.lecun.com/exdb/mnist/train-images-idx3-ubyte.gz\"\n",
    "url2 = \"http://yann.lecun.com/exdb/mnist/train-labels-idx1-ubyte.gz\"\n",
    "url3 = \"http://yann.lecun.com/exdb/mnist/t10k-images-idx3-ubyte.gz\"\n",
    "url4 = \"http://yann.lecun.com/exdb/mnist/t10k-labels-idx1-ubyte.gz\"\n",
    "\n",
    "# download\n",
    "for url in [url1, url2, url3, url4]:\n",
    "    filename = url.split(\"/\")[-1]\n",
    "    destination = \"./\" + filename\n",
    "    re.urlretrieve(url, destination)\n",
    "    print(filename + \" downloaded\")"
   ]
  }
 ],
 "metadata": {
  "kernelspec": {
   "display_name": "Python 3",
   "language": "python",
   "name": "python3"
  },
  "language_info": {
   "codemirror_mode": {
    "name": "ipython",
    "version": 3
   },
   "file_extension": ".py",
   "mimetype": "text/x-python",
   "name": "python",
   "nbconvert_exporter": "python",
   "pygments_lexer": "ipython3",
   "version": "3.6.0"
  }
 },
 "nbformat": 4,
 "nbformat_minor": 2
}
